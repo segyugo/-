{
 "cells": [
  {
   "cell_type": "code",
   "execution_count": 49,
   "id": "ec3fe355",
   "metadata": {},
   "outputs": [],
   "source": [
    "import numpy as np\n",
    "from scipy import linalg, sparse"
   ]
  },
  {
   "cell_type": "code",
   "execution_count": 46,
   "id": "43611f79",
   "metadata": {},
   "outputs": [
    {
     "name": "stdout",
     "output_type": "stream",
     "text": [
      "[[0.95063602 0.40116021]\n",
      " [0.07666981 0.04488607]]\n",
      "[[0.48837894 0.47790494 0.20095211 0.63657556 0.93853358]\n",
      " [0.76660831 0.21742257 0.20365505 0.10532478 0.12316014]\n",
      " [0.62067104 0.81494454 0.5168571  0.44114427 0.38966334]\n",
      " [0.66801328 0.97987371 0.84574605 0.21278484 0.99407476]\n",
      " [0.48948848 0.35312432 0.46581047 0.39526257 0.93948626]\n",
      " [0.63106884 0.63700445 0.36157407 0.04509971 0.30251162]\n",
      " [0.26743928 0.95180391 0.0264598  0.68713951 0.56054521]\n",
      " [0.96698034 0.82897179 0.11527103 0.87872595 0.0261857 ]\n",
      " [0.02070836 0.68809734 0.91885143 0.35487559 0.79132937]\n",
      " [0.1001188  0.49912598 0.77543761 0.13049584 0.10902222]]\n",
      "[[3 4]\n",
      " [5 6]]\n"
     ]
    }
   ],
   "source": [
    "A = np.matrix(np.matrix(np.random.random((2,2))))\n",
    "b = np.random.random((2,2))\n",
    "B = np.asmatrix(b)#배열을 행렬로 전환\n",
    "C = np.mat(np.random.random((10,5)))\n",
    "D = np.mat([[3,4],[5,6]])\n",
    "print(B)\n",
    "print(C)\n",
    "print(D)"
   ]
  },
  {
   "cell_type": "code",
   "execution_count": 48,
   "id": "b74c01a1",
   "metadata": {},
   "outputs": [
    {
     "data": {
      "text/plain": [
       "matrix([[ 3.89103904, -2.56088905],\n",
       "        [-2.53870786,  2.87363241]])"
      ]
     },
     "execution_count": 48,
     "metadata": {},
     "output_type": "execute_result"
    }
   ],
   "source": [
    "#A의 역행렬\n",
    "A.I"
   ]
  },
  {
   "cell_type": "code",
   "execution_count": 51,
   "id": "cadaa059",
   "metadata": {},
   "outputs": [
    {
     "data": {
      "text/plain": [
       "0.21367216735964215"
      ]
     },
     "execution_count": 51,
     "metadata": {},
     "output_type": "execute_result"
    }
   ],
   "source": [
    "#A의 행렬식\n",
    "linalg.det(A)"
   ]
  },
  {
   "cell_type": "code",
   "execution_count": 53,
   "id": "c644c2b0",
   "metadata": {},
   "outputs": [
    {
     "data": {
      "text/plain": [
       "matrix([[0.61401526, 0.54245121],\n",
       "        [0.54719071, 0.83140674]])"
      ]
     },
     "execution_count": 53,
     "metadata": {},
     "output_type": "execute_result"
    }
   ],
   "source": [
    "#A의 전치행렬\n",
    "A.T"
   ]
  },
  {
   "cell_type": "code",
   "execution_count": 60,
   "id": "f1de14a4",
   "metadata": {},
   "outputs": [
    {
     "name": "stdout",
     "output_type": "stream",
     "text": [
      "[[3.15858729 1.38302492]\n",
      " [5.21319895 2.27511749]]\n",
      "[[3.15858729 1.38302492]\n",
      " [5.21319895 2.27511749]]\n",
      "[[2.85190806 1.60464085]\n",
      " [0.38334904 0.26931642]]\n"
     ]
    }
   ],
   "source": [
    "#A의 연산\n",
    "np.add(A, D)\n",
    "np.subtract(A, D)\n",
    "#행렬곱\n",
    "print(D@B)\n",
    "print(np.dot(D, B))\n",
    "#대응되는 원소끼리 단순 곱셉\n",
    "print(np.multiply(D, B))"
   ]
  },
  {
   "cell_type": "code",
   "execution_count": 62,
   "id": "83b3e225",
   "metadata": {},
   "outputs": [
    {
     "data": {
      "text/plain": [
       "matrix([[1., 0.],\n",
       "        [0., 1.]])"
      ]
     },
     "execution_count": 62,
     "metadata": {},
     "output_type": "execute_result"
    }
   ],
   "source": [
    "#2X2 항등행렬\n",
    "G = np.mat(np.identity(2))\n",
    "G"
   ]
  }
 ],
 "metadata": {
  "kernelspec": {
   "display_name": "Python 3 (ipykernel)",
   "language": "python",
   "name": "python3"
  },
  "language_info": {
   "codemirror_mode": {
    "name": "ipython",
    "version": 3
   },
   "file_extension": ".py",
   "mimetype": "text/x-python",
   "name": "python",
   "nbconvert_exporter": "python",
   "pygments_lexer": "ipython3",
   "version": "3.9.13"
  }
 },
 "nbformat": 4,
 "nbformat_minor": 5
}
